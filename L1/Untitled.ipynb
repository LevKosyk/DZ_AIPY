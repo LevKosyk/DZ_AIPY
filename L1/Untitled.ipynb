{
 "cells": [
  {
   "cell_type": "code",
   "execution_count": 2,
   "id": "31c76d89-773b-4405-bfa2-c42ce7f0b24c",
   "metadata": {},
   "outputs": [
    {
     "name": "stdout",
     "output_type": "stream",
     "text": [
      "Initial w0 = 0.5272\n",
      "Initial w1 = 0.2047\n",
      "Initial w2 = 0.2343\n",
      "Training completed.\n",
      "Result for [1, 1, 1]: 1\n"
     ]
    }
   ],
   "source": [
    "import random\n",
    "\n",
    "weightCount = 3\n",
    "weight = [random.random() for _ in range(weightCount)]\n",
    "\n",
    "def activate(a):\n",
    "    return 1 if a > 0 else 0\n",
    "\n",
    "def answer(inputData):\n",
    "    res = 0\n",
    "    for i in range(weightCount):\n",
    "        res += inputData[i] * weight[i]\n",
    "    return res\n",
    "\n",
    "def learn(situationData, expectedResult):\n",
    "    epoch = 50\n",
    "    lr = 0.1\n",
    "\n",
    "    for e in range(epoch):\n",
    "        for s in range(len(situationData)):\n",
    "            prediction = activate(answer(situationData[s]))\n",
    "            error = expectedResult[s] - prediction\n",
    "\n",
    "            for w in range(len(weight)):\n",
    "                weight[w] += lr * error * situationData[s][w]\n",
    "\n",
    "    print(\"Training completed.\")\n",
    "\n",
    "situationData = [ [0, 1, 0], [1, 0, 1], [1, 1, 0], [0, 0, 1], [0, 0, 0] ]\n",
    "expectedResult = [1, 0, 1, 0, 0]\n",
    "\n",
    "for i, w in enumerate(weight):\n",
    "    print(f\"Initial w{i} = {w:.4f}\")\n",
    "\n",
    "learn(situationData, expectedResult)\n",
    "\n",
    "print(\"Result for [1, 1, 1]:\", activate(answer([1, 1, 1])))\n"
   ]
  },
  {
   "cell_type": "code",
   "execution_count": null,
   "id": "922c6a94-fff0-40e4-93a8-0af9676b986f",
   "metadata": {},
   "outputs": [],
   "source": []
  }
 ],
 "metadata": {
  "kernelspec": {
   "display_name": "Python 3 (ipykernel)",
   "language": "python",
   "name": "python3"
  },
  "language_info": {
   "codemirror_mode": {
    "name": "ipython",
    "version": 3
   },
   "file_extension": ".py",
   "mimetype": "text/x-python",
   "name": "python",
   "nbconvert_exporter": "python",
   "pygments_lexer": "ipython3",
   "version": "3.13.3"
  }
 },
 "nbformat": 4,
 "nbformat_minor": 5
}
