{
 "cells": [
  {
   "cell_type": "code",
   "execution_count": 4,
   "id": "bdac7dbc-2aea-418f-a92a-87165723ac75",
   "metadata": {},
   "outputs": [
    {
     "name": "stdout",
     "output_type": "stream",
     "text": [
      "Прогнозы (0=маленькая, 1=большая): [0 0 0 1]\n",
      "Вероятности: [[9.99513469e-01 4.86530848e-04]\n",
      " [9.99711148e-01 2.88852094e-04]\n",
      " [9.99654282e-01 3.45718390e-04]\n",
      " [4.32232681e-04 9.99567767e-01]]\n"
     ]
    }
   ],
   "source": [
    "import pandas as pd\n",
    "import numpy as np\n",
    "from sklearn.neural_network import MLPClassifier\n",
    "from sklearn.preprocessing import StandardScaler\n",
    "data = pd.read_csv(r\"C:/Users/kosyk/Downloads/Books.csv\")\n",
    "data.columns = [col.strip() for col in data.columns]\n",
    "data[\"pages\"] = pd.to_numeric(data[\"pages\"], errors=\"coerce\")\n",
    "data = data.dropna(subset=[\"pages\"]).copy()\n",
    "data[\"pages\"] = data[\"pages\"].astype(int)\n",
    "data[\"size_label\"] = data[\"pages\"].apply(lambda x: 1 if x > 300 else 0)\n",
    "X = data[[\"pages\"]].values\n",
    "y = data[\"size_label\"].values.astype(int)\n",
    "scaler = StandardScaler()\n",
    "X_scaled = scaler.fit_transform(X)\n",
    "model = MLPClassifier(\n",
    "    hidden_layer_sizes=(5,),\n",
    "    solver='adam',\n",
    "    activation='logistic',\n",
    "    max_iter=10000,\n",
    "    random_state=1\n",
    ")\n",
    "model.fit(X_scaled, y)\n",
    "datatest = np.array([[169], [155], [160], [450]])\n",
    "datatest_scaled = scaler.transform(datatest)\n",
    "print(f\"Прогнозы (0=маленькая, 1=большая): {model.predict(datatest_scaled)}\")\n",
    "print(f\"Вероятности: {model.predict_proba(datatest_scaled)}\")"
   ]
  },
  {
   "cell_type": "code",
   "execution_count": null,
   "id": "249abb5f-dd58-489c-87fc-9255863bf2d0",
   "metadata": {},
   "outputs": [],
   "source": []
  }
 ],
 "metadata": {
  "kernelspec": {
   "display_name": "Python 3 (ipykernel)",
   "language": "python",
   "name": "python3"
  },
  "language_info": {
   "codemirror_mode": {
    "name": "ipython",
    "version": 3
   },
   "file_extension": ".py",
   "mimetype": "text/x-python",
   "name": "python",
   "nbconvert_exporter": "python",
   "pygments_lexer": "ipython3",
   "version": "3.13.3"
  }
 },
 "nbformat": 4,
 "nbformat_minor": 5
}
